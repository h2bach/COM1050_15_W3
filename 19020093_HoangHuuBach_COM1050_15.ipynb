{
 "cells": [
  {
   "cell_type": "markdown",
   "id": "c16026ac-df0f-44a7-91fa-78d2324d4326",
   "metadata": {},
   "source": [
    "# Bài 1"
   ]
  },
  {
   "cell_type": "markdown",
   "id": "31b066cf-2c67-4f20-849f-764defe4ee7f",
   "metadata": {},
   "source": [
    "## Git CMD"
   ]
  },
  {
   "cell_type": "code",
   "execution_count": 8,
   "id": "2c88e972-10fe-449a-b858-6cab521ba20c",
   "metadata": {
    "scrolled": true
   },
   "outputs": [
    {
     "name": "stdout",
     "output_type": "stream",
     "text": [
      "On branch master\n",
      "Your branch is up to date with 'origin/master'.\n",
      "\n",
      "Changes not staged for commit:\n",
      "  (use \"git add <file>...\" to update what will be committed)\n",
      "  (use \"git restore <file>...\" to discard changes in working directory)\n",
      "\tmodified:   19020093_HoangHuuBach_COM1050_15.ipynb\n",
      "\n",
      "no changes added to commit (use \"git add\" and/or \"git commit -a\")\n"
     ]
    }
   ],
   "source": [
    "# Sử dụng lệnh CMD bằng cách thêm dấu ! trong code\n",
    "! git status"
   ]
  },
  {
   "cell_type": "code",
   "execution_count": 9,
   "id": "c482433d-5a6b-4d0e-9e06-1b268d87e308",
   "metadata": {},
   "outputs": [
    {
     "name": "stderr",
     "output_type": "stream",
     "text": [
      "warning: in the working copy of '19020093_HoangHuuBach_COM1050_15.ipynb', LF will be replaced by CRLF the next time Git touches it\n"
     ]
    },
    {
     "name": "stdout",
     "output_type": "stream",
     "text": [
      "[master 63a7afc] Update bai tap so 1,2 va huong dan ipynb\n",
      " 1 file changed, 164 insertions(+), 137 deletions(-)\n"
     ]
    },
    {
     "name": "stderr",
     "output_type": "stream",
     "text": [
      "To https://github.com/h2bach/COM1050_15_W3.git\n",
      "   7b62ce6..63a7afc  master -> master\n"
     ]
    }
   ],
   "source": [
    "! git add .\n",
    "! git commit -m \"Update bai tap so 1,2 va huong dan ipynb\"\n",
    "! git push origin master\n",
    "# ! git branch\n",
    "# ! git push origin main"
   ]
  },
  {
   "cell_type": "markdown",
   "id": "2d8cf84c-b0ca-4b98-9705-28adce4637d9",
   "metadata": {},
   "source": [
    "## Hoán đổi giá trị 2 số"
   ]
  },
  {
   "cell_type": "markdown",
   "id": "a2a85256-0562-469c-b235-20dba6bf2dbf",
   "metadata": {},
   "source": [
    "## Hướng dẫn sử dụng Markdown để ghi chép trên \n",
    "\n",
    "- Header ($#$)\n",
    "\n",
    "Càng nhiều dấu thăng (tối đa 3), Header càng nhỏ\n",
    "\n",
    "Headings 1 (#)\n",
    "\n",
    "Headings 2 (##)\n",
    "\n",
    "Headings 3 (###)\n",
    "   \n",
    "- Text: Như văn bản thông thường\n",
    "- Itemize ($-$)\n",
    "- Code quotes\n",
    "\n",
    "  Quote ngắn $`$\n",
    "\n",
    "  Quote code dài $```$"
   ]
  },
  {
   "cell_type": "markdown",
   "id": "27b3a012-d4d0-4154-9447-242612dc2332",
   "metadata": {},
   "source": [
    "## AND, OR, XOR\n",
    "\n",
    "- AND $(&)$:\n",
    "\n",
    "  AND(1,1) = 1\n",
    "  \n",
    "  AND(0,0) = 0\n",
    "\n",
    "  AND(1,0) = AND(0,1) = 0\n",
    "  \n",
    "- OR ($|$):\n",
    "\n",
    "  OR(1,1) = 1\n",
    "\n",
    "  OR(0,0) = 0\n",
    "\n",
    "  OR(1,0)= OR(0,1) = 1\n",
    "- XOR $({^})$\n",
    "\n",
    "  XOR(1,1) = XOR(0,0) = 0\n",
    "\n",
    "  XOR(1,0) = XOR(0,1) = 1"
   ]
  },
  {
   "cell_type": "markdown",
   "id": "a891e4f1-a370-4389-be95-c7b9fcfaaf3e",
   "metadata": {},
   "source": [
    "### Cách hoán đổi 2 giá trị $a$ và $b$ sử dụng phép XOR\n",
    "\n",
    "- tìm hiểu thêm về hoán đổi bitwise\n",
    "\n",
    "- Các phép toán trên bit\n",
    "\n",
    "- Cách hoán đổi\n",
    "\n",
    "  $a = a\\^b$\n",
    "\n",
    "  $b = a\\^b$\n",
    "\n",
    "  $a = a\\^b$\n",
    "  \n",
    "\n",
    "```\n",
    "(a, b) = (b, a)\n",
    "\n",
    "a = a^b\n",
    "b= a^b\n",
    "a = a^b\n",
    "```"
   ]
  },
  {
   "cell_type": "code",
   "execution_count": 1,
   "id": "9fac40b3-576b-46d3-96f8-fc05f6487a8f",
   "metadata": {},
   "outputs": [],
   "source": [
    "a = 5\n",
    "b = 7\n",
    "\n",
    "a = a^b\n",
    "b= a^b\n",
    "a = a^b\n",
    "\n",
    "print(a)"
   ]
  },
  {
   "cell_type": "code",
   "execution_count": 2,
   "id": "d70b9b96-4db4-47d3-897b-96b4e9e0fa72",
   "metadata": {},
   "outputs": [
    {
     "data": {
      "text/plain": [
       "(5, 7)"
      ]
     },
     "execution_count": 2,
     "metadata": {},
     "output_type": "execute_result"
    }
   ],
   "source": [
    "a, b"
   ]
  },
  {
   "cell_type": "code",
   "execution_count": 3,
   "id": "90aee73d-58f5-4dd1-b5bc-ff55d754c8a7",
   "metadata": {},
   "outputs": [],
   "source": [
    "a, b = b, a"
   ]
  },
  {
   "cell_type": "code",
   "execution_count": 4,
   "id": "78a43f4e-600b-46e0-8e1e-eba99b5afef7",
   "metadata": {},
   "outputs": [
    {
     "data": {
      "text/plain": [
       "(7, 5)"
      ]
     },
     "execution_count": 4,
     "metadata": {},
     "output_type": "execute_result"
    }
   ],
   "source": [
    "a, b"
   ]
  },
  {
   "cell_type": "code",
   "execution_count": 5,
   "id": "4d8fd2ff-3c71-4eb5-b7c1-edacdaff4e7e",
   "metadata": {},
   "outputs": [
    {
     "ename": "KeyboardInterrupt",
     "evalue": "Interrupted by user",
     "output_type": "error",
     "traceback": [
      "\u001b[31m---------------------------------------------------------------------------\u001b[39m",
      "\u001b[31mKeyboardInterrupt\u001b[39m                         Traceback (most recent call last)",
      "\u001b[36mCell\u001b[39m\u001b[36m \u001b[39m\u001b[32mIn[5]\u001b[39m\u001b[32m, line 1\u001b[39m\n\u001b[32m----> \u001b[39m\u001b[32m1\u001b[39m a, b = \u001b[38;5;28mmap\u001b[39m(\u001b[38;5;28mint\u001b[39m,\u001b[38;5;28;43minput\u001b[39;49m\u001b[43m(\u001b[49m\u001b[43m)\u001b[49m.split())\n\u001b[32m      2\u001b[39m \u001b[38;5;28mprint\u001b[39m(\u001b[33mf\u001b[39m\u001b[33m\"\u001b[39m\u001b[33mGiá trị ban đầu của a: \u001b[39m\u001b[38;5;132;01m{\u001b[39;00ma\u001b[38;5;132;01m}\u001b[39;00m\u001b[33m; b: \u001b[39m\u001b[38;5;132;01m{\u001b[39;00mb\u001b[38;5;132;01m}\u001b[39;00m\u001b[33m\"\u001b[39m)\n",
      "\u001b[36mFile \u001b[39m\u001b[32m~\\miniconda3\\Lib\\site-packages\\ipykernel\\kernelbase.py:1275\u001b[39m, in \u001b[36mKernel.raw_input\u001b[39m\u001b[34m(self, prompt)\u001b[39m\n\u001b[32m   1273\u001b[39m     msg = \u001b[33m\"\u001b[39m\u001b[33mraw_input was called, but this frontend does not support input requests.\u001b[39m\u001b[33m\"\u001b[39m\n\u001b[32m   1274\u001b[39m     \u001b[38;5;28;01mraise\u001b[39;00m StdinNotImplementedError(msg)\n\u001b[32m-> \u001b[39m\u001b[32m1275\u001b[39m \u001b[38;5;28;01mreturn\u001b[39;00m \u001b[38;5;28;43mself\u001b[39;49m\u001b[43m.\u001b[49m\u001b[43m_input_request\u001b[49m\u001b[43m(\u001b[49m\n\u001b[32m   1276\u001b[39m \u001b[43m    \u001b[49m\u001b[38;5;28;43mstr\u001b[39;49m\u001b[43m(\u001b[49m\u001b[43mprompt\u001b[49m\u001b[43m)\u001b[49m\u001b[43m,\u001b[49m\n\u001b[32m   1277\u001b[39m \u001b[43m    \u001b[49m\u001b[38;5;28;43mself\u001b[39;49m\u001b[43m.\u001b[49m\u001b[43m_parent_ident\u001b[49m\u001b[43m[\u001b[49m\u001b[33;43m\"\u001b[39;49m\u001b[33;43mshell\u001b[39;49m\u001b[33;43m\"\u001b[39;49m\u001b[43m]\u001b[49m\u001b[43m,\u001b[49m\n\u001b[32m   1278\u001b[39m \u001b[43m    \u001b[49m\u001b[38;5;28;43mself\u001b[39;49m\u001b[43m.\u001b[49m\u001b[43mget_parent\u001b[49m\u001b[43m(\u001b[49m\u001b[33;43m\"\u001b[39;49m\u001b[33;43mshell\u001b[39;49m\u001b[33;43m\"\u001b[39;49m\u001b[43m)\u001b[49m\u001b[43m,\u001b[49m\n\u001b[32m   1279\u001b[39m \u001b[43m    \u001b[49m\u001b[43mpassword\u001b[49m\u001b[43m=\u001b[49m\u001b[38;5;28;43;01mFalse\u001b[39;49;00m\u001b[43m,\u001b[49m\n\u001b[32m   1280\u001b[39m \u001b[43m\u001b[49m\u001b[43m)\u001b[49m\n",
      "\u001b[36mFile \u001b[39m\u001b[32m~\\miniconda3\\Lib\\site-packages\\ipykernel\\kernelbase.py:1320\u001b[39m, in \u001b[36mKernel._input_request\u001b[39m\u001b[34m(self, prompt, ident, parent, password)\u001b[39m\n\u001b[32m   1317\u001b[39m \u001b[38;5;28;01mexcept\u001b[39;00m \u001b[38;5;167;01mKeyboardInterrupt\u001b[39;00m:\n\u001b[32m   1318\u001b[39m     \u001b[38;5;66;03m# re-raise KeyboardInterrupt, to truncate traceback\u001b[39;00m\n\u001b[32m   1319\u001b[39m     msg = \u001b[33m\"\u001b[39m\u001b[33mInterrupted by user\u001b[39m\u001b[33m\"\u001b[39m\n\u001b[32m-> \u001b[39m\u001b[32m1320\u001b[39m     \u001b[38;5;28;01mraise\u001b[39;00m \u001b[38;5;167;01mKeyboardInterrupt\u001b[39;00m(msg) \u001b[38;5;28;01mfrom\u001b[39;00m\u001b[38;5;250m \u001b[39m\u001b[38;5;28;01mNone\u001b[39;00m\n\u001b[32m   1321\u001b[39m \u001b[38;5;28;01mexcept\u001b[39;00m \u001b[38;5;167;01mException\u001b[39;00m:\n\u001b[32m   1322\u001b[39m     \u001b[38;5;28mself\u001b[39m.log.warning(\u001b[33m\"\u001b[39m\u001b[33mInvalid Message:\u001b[39m\u001b[33m\"\u001b[39m, exc_info=\u001b[38;5;28;01mTrue\u001b[39;00m)\n",
      "\u001b[31mKeyboardInterrupt\u001b[39m: Interrupted by user"
     ]
    }
   ],
   "source": [
    "a, b = map(int,input().split())\n",
    "print(f\"Giá trị ban đầu của a: {a}; b: {b}\")"
   ]
  },
  {
   "cell_type": "code",
   "execution_count": null,
   "id": "3544b700-4e64-48dc-a48a-d293ae30034c",
   "metadata": {},
   "outputs": [],
   "source": [
    "a = a^b\n",
    "b = a^b\n",
    "a = a^b"
   ]
  },
  {
   "cell_type": "code",
   "execution_count": null,
   "id": "fb30a28e-610b-4c2a-815b-9fdeb7e95dd1",
   "metadata": {},
   "outputs": [],
   "source": [
    "print(f\"Giá trị sau khi hoán đổi của a: {a}; b: {b}\")"
   ]
  },
  {
   "cell_type": "markdown",
   "id": "17052ad4-efd3-41b4-9c93-6e7620747b03",
   "metadata": {
    "jp-MarkdownHeadingCollapsed": true
   },
   "source": [
    "# Bài 2"
   ]
  },
  {
   "cell_type": "code",
   "execution_count": null,
   "id": "4fc6bbf3-6f1a-425d-a18f-09d93ef03337",
   "metadata": {},
   "outputs": [],
   "source": [
    "a = 8"
   ]
  },
  {
   "cell_type": "code",
   "execution_count": null,
   "id": "e1a3f452-fd35-4265-bf15-13fbffba1645",
   "metadata": {},
   "outputs": [],
   "source": [
    "a & (a-1) == 0"
   ]
  },
  {
   "cell_type": "code",
   "execution_count": null,
   "id": "452b8275-6455-4416-ac22-e3e75fe118a9",
   "metadata": {},
   "outputs": [],
   "source": [
    "a = int(input())\n",
    "\n",
    "if (a & (a-1)== 0): \n",
    "    print(f\"{a} là lũy thừa của 2\")\n",
    "else:\n",
    "    print(f\"{a} không là lũy thừa của 2\")"
   ]
  },
  {
   "cell_type": "markdown",
   "id": "09fd3037-31e3-4b7f-acc1-bcae5a128224",
   "metadata": {
    "jp-MarkdownHeadingCollapsed": true
   },
   "source": [
    "# Làm tròn lên, làm tròn xuống (W3A3,W3A4)\n",
    "\n",
    "`ceil()`: làm tròn lên\n",
    "\n",
    "`floor()`: làm tròn xuống"
   ]
  },
  {
   "cell_type": "markdown",
   "id": "4b1b62e8-a9ce-4bb8-bd10-3cab756d627c",
   "metadata": {},
   "source": [
    "# Chiều dài xâu\n",
    "\n",
    "`len()`: tìm chiều dài của xâu nhập vào\n",
    "\n",
    "```python\n",
    "len(string), len(string2)\n",
    "```\n"
   ]
  },
  {
   "cell_type": "code",
   "execution_count": null,
   "id": "e0d7b6c7-6d28-4b1c-85ab-1ee9bb0571bf",
   "metadata": {},
   "outputs": [],
   "source": [
    "string = \"asjdasjdaksdhkasjdhaksjda\"\n",
    "string2 = \"askjdajksdhakjsdakjsdhaksdahsdk\""
   ]
  },
  {
   "cell_type": "code",
   "execution_count": null,
   "id": "0274e34b-62dd-4a33-8288-1c99064bdbb4",
   "metadata": {},
   "outputs": [],
   "source": [
    "len(string), len(string2)"
   ]
  },
  {
   "cell_type": "markdown",
   "id": "e4b0ba00-e783-4228-a4e6-40903a6b813f",
   "metadata": {},
   "source": [
    "# Tìm giá trị lớn nhất, nhỏ nhất của 1 tập số"
   ]
  },
  {
   "cell_type": "code",
   "execution_count": null,
   "id": "a609406f-7587-435a-9ddc-16b5bffec5ed",
   "metadata": {},
   "outputs": [],
   "source": [
    "arr = list(map(int, input().split()))\n"
   ]
  },
  {
   "cell_type": "code",
   "execution_count": null,
   "id": "014f61c2-ee18-4118-b1b4-4da1b0a25595",
   "metadata": {},
   "outputs": [],
   "source": [
    "max(arr), min(arr)"
   ]
  },
  {
   "cell_type": "code",
   "execution_count": null,
   "id": "fa86d450-e441-4415-a039-1a5407956b4e",
   "metadata": {},
   "outputs": [],
   "source": []
  }
 ],
 "metadata": {
  "kernelspec": {
   "display_name": "Python 3 (ipykernel)",
   "language": "python",
   "name": "python3"
  },
  "language_info": {
   "codemirror_mode": {
    "name": "ipython",
    "version": 3
   },
   "file_extension": ".py",
   "mimetype": "text/x-python",
   "name": "python",
   "nbconvert_exporter": "python",
   "pygments_lexer": "ipython3",
   "version": "3.13.5"
  }
 },
 "nbformat": 4,
 "nbformat_minor": 5
}
