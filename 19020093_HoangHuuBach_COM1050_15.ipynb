{
 "cells": [
  {
   "cell_type": "markdown",
   "id": "c16026ac-df0f-44a7-91fa-78d2324d4326",
   "metadata": {},
   "source": [
    "# Bài 1"
   ]
  },
  {
   "cell_type": "markdown",
   "id": "2d8cf84c-b0ca-4b98-9705-28adce4637d9",
   "metadata": {},
   "source": [
    "## Hoán đổi giá trị 2 số"
   ]
  },
  {
   "cell_type": "code",
   "execution_count": 1,
   "id": "9fac40b3-576b-46d3-96f8-fc05f6487a8f",
   "metadata": {},
   "outputs": [],
   "source": [
    "a = 5\n",
    "b = 7"
   ]
  },
  {
   "cell_type": "code",
   "execution_count": 2,
   "id": "d70b9b96-4db4-47d3-897b-96b4e9e0fa72",
   "metadata": {},
   "outputs": [
    {
     "data": {
      "text/plain": [
       "(5, 7)"
      ]
     },
     "execution_count": 2,
     "metadata": {},
     "output_type": "execute_result"
    }
   ],
   "source": [
    "a, b"
   ]
  },
  {
   "cell_type": "code",
   "execution_count": 3,
   "id": "90aee73d-58f5-4dd1-b5bc-ff55d754c8a7",
   "metadata": {},
   "outputs": [],
   "source": [
    "a, b = b, a"
   ]
  },
  {
   "cell_type": "code",
   "execution_count": 4,
   "id": "78a43f4e-600b-46e0-8e1e-eba99b5afef7",
   "metadata": {},
   "outputs": [
    {
     "data": {
      "text/plain": [
       "(7, 5)"
      ]
     },
     "execution_count": 4,
     "metadata": {},
     "output_type": "execute_result"
    }
   ],
   "source": [
    "a, b"
   ]
  },
  {
   "cell_type": "markdown",
   "id": "27b3a012-d4d0-4154-9447-242612dc2332",
   "metadata": {},
   "source": [
    "## AND, OR, XOR\n",
    "\n",
    "- AND ($&$):\n",
    "\n",
    "  AND(1,1) = 1\n",
    "  \n",
    "  AND(0,0) = 0\n",
    "\n",
    "  AND(1,0) = AND(0,1) = 0\n",
    "- OR ($|$):\n",
    "\n",
    "  OR(1,1) = 1\n",
    "\n",
    "  OR(0,0) = 0\n",
    "\n",
    "  OR(1,0)= OR(0,1) = 1\n",
    "- XOR ($^$)\n",
    "\n",
    "  XOR(1,1) = XOR(0,0) = 0\n",
    "\n",
    "  XOR(1,0) = XOR(0,1) = 1"
   ]
  },
  {
   "cell_type": "markdown",
   "id": "a891e4f1-a370-4389-be95-c7b9fcfaaf3e",
   "metadata": {},
   "source": [
    "### Cách hoán đổi 2 giá trị $a$ và $b$ sử dụng phép XOR\n",
    "```\n",
    "a, b = (?, ?)\n",
    "\n",
    "a = a^b\n",
    "b= a^b\n",
    "a = a^b\n",
    "```"
   ]
  },
  {
   "cell_type": "code",
   "execution_count": 9,
   "id": "4d8fd2ff-3c71-4eb5-b7c1-edacdaff4e7e",
   "metadata": {},
   "outputs": [
    {
     "name": "stdin",
     "output_type": "stream",
     "text": [
      " 5 7\n"
     ]
    },
    {
     "name": "stdout",
     "output_type": "stream",
     "text": [
      "Giá trị ban đầu của a: 5; b: 7\n"
     ]
    }
   ],
   "source": [
    "a, b = map(int,input().split())\n",
    "print(f\"Giá trị ban đầu của a: {a}; b: {b}\")"
   ]
  },
  {
   "cell_type": "code",
   "execution_count": 10,
   "id": "3544b700-4e64-48dc-a48a-d293ae30034c",
   "metadata": {},
   "outputs": [],
   "source": [
    "a = a^b\n",
    "b = a^b\n",
    "a = a^b"
   ]
  },
  {
   "cell_type": "code",
   "execution_count": 11,
   "id": "fb30a28e-610b-4c2a-815b-9fdeb7e95dd1",
   "metadata": {},
   "outputs": [
    {
     "name": "stdout",
     "output_type": "stream",
     "text": [
      "Giá trị sau khi hoán đổi của a: 7; b: 5\n"
     ]
    }
   ],
   "source": [
    "print(f\"Giá trị sau khi hoán đổi của a: {a}; b: {b}\")"
   ]
  }
 ],
 "metadata": {
  "kernelspec": {
   "display_name": "Python 3 (ipykernel)",
   "language": "python",
   "name": "python3"
  },
  "language_info": {
   "codemirror_mode": {
    "name": "ipython",
    "version": 3
   },
   "file_extension": ".py",
   "mimetype": "text/x-python",
   "name": "python",
   "nbconvert_exporter": "python",
   "pygments_lexer": "ipython3",
   "version": "3.13.5"
  }
 },
 "nbformat": 4,
 "nbformat_minor": 5
}
